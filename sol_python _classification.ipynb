{
 "cells": [
  {
   "cell_type": "markdown",
   "id": "6e99b94c",
   "metadata": {},
   "source": [
    "* **1. Import libaries**\n",
    "* **2. Load the data**\n",
    "* **3. Data analysis on SQL**\n",
    "* **4. EDA**\n",
    " * 4.1. Clean header names and check datatype \n",
    " * 4.2. Check basic statistics and the unique values\n",
    " * 4.3. Drop duplicates and check null values\n",
    " * 4.4.  Explore numerical data  \n",
    " * 4.5. Explore categorical columns\n",
    " * 4.6. Relationshop between accepted offers and the other columns \n",
    " * 4.7. Set index \n",
    " * 4.8. Check the correlation\n",
    " * 4.9. Check value counts\n",
    "* **5. Data processing, feature engineering**\n",
    " * 5.1. Apply boxcox transformation\n",
    " * 5.2. Remove outliers\n",
    "* **6. Train/test split, standardize numerical + encode categorical**\n",
    "* **7. Model evaluation**\n",
    " * 7.1. KNeighbors Classifier \n",
    " * 7.2. KNeighbors Classifier with SMOTE\n",
    " * 7.3. Logistic Regression\n",
    " * 7.4. Logistic Regression - Weights \n",
    "* **8. Overview - model results**\n",
    "* **9. Wrap up and recommended next steps**"
   ]
  },
  {
   "cell_type": "markdown",
   "id": "8b8f6ea7",
   "metadata": {},
   "source": [
    "### 1. Import libaries"
   ]
  },
  {
   "cell_type": "code",
   "execution_count": 17,
   "id": "81bf59f2",
   "metadata": {},
   "outputs": [],
   "source": [
    "import pandas as pd\n",
    "import matplotlib.pyplot as plt\n",
    "import seaborn as sns\n",
    "import numpy as np\n",
    "import warnings\n",
    "warnings.filterwarnings('ignore')"
   ]
  },
  {
   "cell_type": "markdown",
   "id": "0e67245a",
   "metadata": {},
   "source": [
    "### 2. Load the data"
   ]
  },
  {
   "cell_type": "code",
   "execution_count": 2,
   "id": "9d90468e",
   "metadata": {},
   "outputs": [],
   "source": [
    "credit = pd.read_csv('/home/julian/Cursos/Ironhack/Proyectos/mid-bootcamp-project-classification/data/creditcardmarketing.csv')"
   ]
  },
  {
   "cell_type": "code",
   "execution_count": 3,
   "id": "6bb52686",
   "metadata": {},
   "outputs": [
    {
     "data": {
      "text/plain": [
       "(18000, 17)"
      ]
     },
     "execution_count": 3,
     "metadata": {},
     "output_type": "execute_result"
    }
   ],
   "source": [
    "credit.shape"
   ]
  },
  {
   "cell_type": "code",
   "execution_count": 4,
   "id": "ce3734d9",
   "metadata": {},
   "outputs": [
    {
     "data": {
      "text/html": [
       "<div>\n",
       "<style scoped>\n",
       "    .dataframe tbody tr th:only-of-type {\n",
       "        vertical-align: middle;\n",
       "    }\n",
       "\n",
       "    .dataframe tbody tr th {\n",
       "        vertical-align: top;\n",
       "    }\n",
       "\n",
       "    .dataframe thead th {\n",
       "        text-align: right;\n",
       "    }\n",
       "</style>\n",
       "<table border=\"1\" class=\"dataframe\">\n",
       "  <thead>\n",
       "    <tr style=\"text-align: right;\">\n",
       "      <th></th>\n",
       "      <th>Customer Number</th>\n",
       "      <th>Offer Accepted</th>\n",
       "      <th>Reward</th>\n",
       "      <th>Mailer Type</th>\n",
       "      <th>Income Level</th>\n",
       "      <th># Bank Accounts Open</th>\n",
       "      <th>Overdraft Protection</th>\n",
       "      <th>Credit Rating</th>\n",
       "      <th># Credit Cards Held</th>\n",
       "      <th># Homes Owned</th>\n",
       "      <th>Household Size</th>\n",
       "      <th>Own Your Home</th>\n",
       "      <th>Average Balance</th>\n",
       "      <th>Q1 Balance</th>\n",
       "      <th>Q2 Balance</th>\n",
       "      <th>Q3 Balance</th>\n",
       "      <th>Q4 Balance</th>\n",
       "    </tr>\n",
       "  </thead>\n",
       "  <tbody>\n",
       "    <tr>\n",
       "      <th>0</th>\n",
       "      <td>1</td>\n",
       "      <td>No</td>\n",
       "      <td>Air Miles</td>\n",
       "      <td>Letter</td>\n",
       "      <td>High</td>\n",
       "      <td>1</td>\n",
       "      <td>No</td>\n",
       "      <td>High</td>\n",
       "      <td>2</td>\n",
       "      <td>1</td>\n",
       "      <td>4</td>\n",
       "      <td>No</td>\n",
       "      <td>1160.75</td>\n",
       "      <td>1669.0</td>\n",
       "      <td>877.0</td>\n",
       "      <td>1095.0</td>\n",
       "      <td>1002.0</td>\n",
       "    </tr>\n",
       "    <tr>\n",
       "      <th>1</th>\n",
       "      <td>2</td>\n",
       "      <td>No</td>\n",
       "      <td>Air Miles</td>\n",
       "      <td>Letter</td>\n",
       "      <td>Medium</td>\n",
       "      <td>1</td>\n",
       "      <td>No</td>\n",
       "      <td>Medium</td>\n",
       "      <td>2</td>\n",
       "      <td>2</td>\n",
       "      <td>5</td>\n",
       "      <td>Yes</td>\n",
       "      <td>147.25</td>\n",
       "      <td>39.0</td>\n",
       "      <td>106.0</td>\n",
       "      <td>78.0</td>\n",
       "      <td>366.0</td>\n",
       "    </tr>\n",
       "    <tr>\n",
       "      <th>2</th>\n",
       "      <td>3</td>\n",
       "      <td>No</td>\n",
       "      <td>Air Miles</td>\n",
       "      <td>Postcard</td>\n",
       "      <td>High</td>\n",
       "      <td>2</td>\n",
       "      <td>No</td>\n",
       "      <td>Medium</td>\n",
       "      <td>2</td>\n",
       "      <td>1</td>\n",
       "      <td>2</td>\n",
       "      <td>Yes</td>\n",
       "      <td>276.50</td>\n",
       "      <td>367.0</td>\n",
       "      <td>352.0</td>\n",
       "      <td>145.0</td>\n",
       "      <td>242.0</td>\n",
       "    </tr>\n",
       "  </tbody>\n",
       "</table>\n",
       "</div>"
      ],
      "text/plain": [
       "   Customer Number Offer Accepted     Reward Mailer Type Income Level  \\\n",
       "0                1             No  Air Miles      Letter         High   \n",
       "1                2             No  Air Miles      Letter       Medium   \n",
       "2                3             No  Air Miles    Postcard         High   \n",
       "\n",
       "   # Bank Accounts Open Overdraft Protection Credit Rating  \\\n",
       "0                     1                   No          High   \n",
       "1                     1                   No        Medium   \n",
       "2                     2                   No        Medium   \n",
       "\n",
       "   # Credit Cards Held  # Homes Owned  Household Size Own Your Home  \\\n",
       "0                    2              1               4            No   \n",
       "1                    2              2               5           Yes   \n",
       "2                    2              1               2           Yes   \n",
       "\n",
       "   Average Balance  Q1 Balance  Q2 Balance  Q3 Balance  Q4 Balance  \n",
       "0          1160.75      1669.0       877.0      1095.0      1002.0  \n",
       "1           147.25        39.0       106.0        78.0       366.0  \n",
       "2           276.50       367.0       352.0       145.0       242.0  "
      ]
     },
     "execution_count": 4,
     "metadata": {},
     "output_type": "execute_result"
    }
   ],
   "source": [
    "credit.head(3)"
   ]
  },
  {
   "cell_type": "markdown",
   "id": "6f04fd61",
   "metadata": {},
   "source": [
    "### 4. EDA"
   ]
  },
  {
   "cell_type": "markdown",
   "id": "49681fd1",
   "metadata": {},
   "source": [
    "**4.1. Clean header names and check datatypes**\n",
    "- Renaming the columns so they follow the PE8 (snake case) and taking out non alphanumeric (#)"
   ]
  },
  {
   "cell_type": "code",
   "execution_count": 5,
   "id": "520cd391",
   "metadata": {},
   "outputs": [
    {
     "name": "stdout",
     "output_type": "stream",
     "text": [
      "<class 'pandas.core.frame.DataFrame'>\n",
      "RangeIndex: 18000 entries, 0 to 17999\n",
      "Data columns (total 17 columns):\n",
      " #   Column                Non-Null Count  Dtype  \n",
      "---  ------                --------------  -----  \n",
      " 0   Customer Number       18000 non-null  int64  \n",
      " 1   Offer Accepted        18000 non-null  object \n",
      " 2   Reward                18000 non-null  object \n",
      " 3   Mailer Type           18000 non-null  object \n",
      " 4   Income Level          18000 non-null  object \n",
      " 5   # Bank Accounts Open  18000 non-null  int64  \n",
      " 6   Overdraft Protection  18000 non-null  object \n",
      " 7   Credit Rating         18000 non-null  object \n",
      " 8   # Credit Cards Held   18000 non-null  int64  \n",
      " 9   # Homes Owned         18000 non-null  int64  \n",
      " 10  Household Size        18000 non-null  int64  \n",
      " 11  Own Your Home         18000 non-null  object \n",
      " 12  Average Balance       17976 non-null  float64\n",
      " 13  Q1 Balance            17976 non-null  float64\n",
      " 14  Q2 Balance            17976 non-null  float64\n",
      " 15  Q3 Balance            17976 non-null  float64\n",
      " 16  Q4 Balance            17976 non-null  float64\n",
      "dtypes: float64(5), int64(5), object(7)\n",
      "memory usage: 2.3+ MB\n"
     ]
    }
   ],
   "source": [
    "credit.info()"
   ]
  },
  {
   "cell_type": "code",
   "execution_count": 6,
   "id": "8503468d",
   "metadata": {},
   "outputs": [],
   "source": [
    "headers = list(credit.columns)\n",
    "headers_ = [h.replace('# ', '').replace(' ', '_').lower() for h in headers]"
   ]
  },
  {
   "cell_type": "code",
   "execution_count": 7,
   "id": "714206b4",
   "metadata": {},
   "outputs": [],
   "source": [
    "credit.columns = headers_"
   ]
  },
  {
   "cell_type": "markdown",
   "id": "7a190809",
   "metadata": {},
   "source": [
    "#### 4.2. Check basic statistics and the unique values"
   ]
  },
  {
   "cell_type": "code",
   "execution_count": 8,
   "id": "59ac54f9",
   "metadata": {},
   "outputs": [
    {
     "data": {
      "text/html": [
       "<div>\n",
       "<style scoped>\n",
       "    .dataframe tbody tr th:only-of-type {\n",
       "        vertical-align: middle;\n",
       "    }\n",
       "\n",
       "    .dataframe tbody tr th {\n",
       "        vertical-align: top;\n",
       "    }\n",
       "\n",
       "    .dataframe thead th {\n",
       "        text-align: right;\n",
       "    }\n",
       "</style>\n",
       "<table border=\"1\" class=\"dataframe\">\n",
       "  <thead>\n",
       "    <tr style=\"text-align: right;\">\n",
       "      <th></th>\n",
       "      <th>customer_number</th>\n",
       "      <th>bank_accounts_open</th>\n",
       "      <th>credit_cards_held</th>\n",
       "      <th>homes_owned</th>\n",
       "      <th>household_size</th>\n",
       "      <th>average_balance</th>\n",
       "      <th>q1_balance</th>\n",
       "      <th>q2_balance</th>\n",
       "      <th>q3_balance</th>\n",
       "      <th>q4_balance</th>\n",
       "    </tr>\n",
       "  </thead>\n",
       "  <tbody>\n",
       "    <tr>\n",
       "      <th>count</th>\n",
       "      <td>18000.000000</td>\n",
       "      <td>18000.000000</td>\n",
       "      <td>18000.000000</td>\n",
       "      <td>18000.000000</td>\n",
       "      <td>18000.000000</td>\n",
       "      <td>17976.000000</td>\n",
       "      <td>17976.000000</td>\n",
       "      <td>17976.000000</td>\n",
       "      <td>17976.000000</td>\n",
       "      <td>17976.000000</td>\n",
       "    </tr>\n",
       "    <tr>\n",
       "      <th>mean</th>\n",
       "      <td>9000.500000</td>\n",
       "      <td>1.255778</td>\n",
       "      <td>1.903500</td>\n",
       "      <td>1.203444</td>\n",
       "      <td>3.499056</td>\n",
       "      <td>940.515562</td>\n",
       "      <td>910.450656</td>\n",
       "      <td>999.392190</td>\n",
       "      <td>1042.033600</td>\n",
       "      <td>810.185803</td>\n",
       "    </tr>\n",
       "    <tr>\n",
       "      <th>std</th>\n",
       "      <td>5196.296758</td>\n",
       "      <td>0.472501</td>\n",
       "      <td>0.797009</td>\n",
       "      <td>0.427341</td>\n",
       "      <td>1.114182</td>\n",
       "      <td>350.297837</td>\n",
       "      <td>620.077060</td>\n",
       "      <td>457.402268</td>\n",
       "      <td>553.452599</td>\n",
       "      <td>559.001365</td>\n",
       "    </tr>\n",
       "    <tr>\n",
       "      <th>min</th>\n",
       "      <td>1.000000</td>\n",
       "      <td>1.000000</td>\n",
       "      <td>1.000000</td>\n",
       "      <td>1.000000</td>\n",
       "      <td>1.000000</td>\n",
       "      <td>48.250000</td>\n",
       "      <td>0.000000</td>\n",
       "      <td>0.000000</td>\n",
       "      <td>0.000000</td>\n",
       "      <td>0.000000</td>\n",
       "    </tr>\n",
       "    <tr>\n",
       "      <th>25%</th>\n",
       "      <td>4500.750000</td>\n",
       "      <td>1.000000</td>\n",
       "      <td>1.000000</td>\n",
       "      <td>1.000000</td>\n",
       "      <td>3.000000</td>\n",
       "      <td>787.500000</td>\n",
       "      <td>392.750000</td>\n",
       "      <td>663.000000</td>\n",
       "      <td>633.000000</td>\n",
       "      <td>363.000000</td>\n",
       "    </tr>\n",
       "    <tr>\n",
       "      <th>50%</th>\n",
       "      <td>9000.500000</td>\n",
       "      <td>1.000000</td>\n",
       "      <td>2.000000</td>\n",
       "      <td>1.000000</td>\n",
       "      <td>3.000000</td>\n",
       "      <td>1007.000000</td>\n",
       "      <td>772.000000</td>\n",
       "      <td>1032.000000</td>\n",
       "      <td>945.500000</td>\n",
       "      <td>703.000000</td>\n",
       "    </tr>\n",
       "    <tr>\n",
       "      <th>75%</th>\n",
       "      <td>13500.250000</td>\n",
       "      <td>1.000000</td>\n",
       "      <td>2.000000</td>\n",
       "      <td>1.000000</td>\n",
       "      <td>4.000000</td>\n",
       "      <td>1153.250000</td>\n",
       "      <td>1521.000000</td>\n",
       "      <td>1342.000000</td>\n",
       "      <td>1463.000000</td>\n",
       "      <td>1212.000000</td>\n",
       "    </tr>\n",
       "    <tr>\n",
       "      <th>max</th>\n",
       "      <td>18000.000000</td>\n",
       "      <td>3.000000</td>\n",
       "      <td>4.000000</td>\n",
       "      <td>3.000000</td>\n",
       "      <td>9.000000</td>\n",
       "      <td>3366.250000</td>\n",
       "      <td>3450.000000</td>\n",
       "      <td>3421.000000</td>\n",
       "      <td>3823.000000</td>\n",
       "      <td>4215.000000</td>\n",
       "    </tr>\n",
       "  </tbody>\n",
       "</table>\n",
       "</div>"
      ],
      "text/plain": [
       "       customer_number  bank_accounts_open  credit_cards_held   homes_owned  \\\n",
       "count     18000.000000        18000.000000       18000.000000  18000.000000   \n",
       "mean       9000.500000            1.255778           1.903500      1.203444   \n",
       "std        5196.296758            0.472501           0.797009      0.427341   \n",
       "min           1.000000            1.000000           1.000000      1.000000   \n",
       "25%        4500.750000            1.000000           1.000000      1.000000   \n",
       "50%        9000.500000            1.000000           2.000000      1.000000   \n",
       "75%       13500.250000            1.000000           2.000000      1.000000   \n",
       "max       18000.000000            3.000000           4.000000      3.000000   \n",
       "\n",
       "       household_size  average_balance    q1_balance    q2_balance  \\\n",
       "count    18000.000000     17976.000000  17976.000000  17976.000000   \n",
       "mean         3.499056       940.515562    910.450656    999.392190   \n",
       "std          1.114182       350.297837    620.077060    457.402268   \n",
       "min          1.000000        48.250000      0.000000      0.000000   \n",
       "25%          3.000000       787.500000    392.750000    663.000000   \n",
       "50%          3.000000      1007.000000    772.000000   1032.000000   \n",
       "75%          4.000000      1153.250000   1521.000000   1342.000000   \n",
       "max          9.000000      3366.250000   3450.000000   3421.000000   \n",
       "\n",
       "         q3_balance    q4_balance  \n",
       "count  17976.000000  17976.000000  \n",
       "mean    1042.033600    810.185803  \n",
       "std      553.452599    559.001365  \n",
       "min        0.000000      0.000000  \n",
       "25%      633.000000    363.000000  \n",
       "50%      945.500000    703.000000  \n",
       "75%     1463.000000   1212.000000  \n",
       "max     3823.000000   4215.000000  "
      ]
     },
     "execution_count": 8,
     "metadata": {},
     "output_type": "execute_result"
    }
   ],
   "source": [
    "credit.describe()"
   ]
  },
  {
   "cell_type": "code",
   "execution_count": 9,
   "id": "a56232f1",
   "metadata": {},
   "outputs": [
    {
     "name": "stdout",
     "output_type": "stream",
     "text": [
      "[    1     2     3 ... 17998 17999 18000]\n",
      "['No' 'Yes']\n",
      "['Air Miles' 'Cash Back' 'Points']\n",
      "['Letter' 'Postcard']\n",
      "['High' 'Medium' 'Low']\n",
      "[1 2 3]\n",
      "['No' 'Yes']\n",
      "['High' 'Medium' 'Low']\n",
      "[2 1 3 4]\n",
      "[1 2 3]\n",
      "[4 5 2 6 3 1 8 9]\n",
      "['No' 'Yes']\n",
      "[1160.75  147.25  276.5  ...  691.   1649.   1427.25]\n",
      "[1669.   39.  367. ... 1122. 2139. 1070.]\n",
      "[ 877.  106.  352. ...   91. 1865. 1824.]\n",
      "[1095.   78.  145. ... 2265. 2045. 1037.]\n",
      "[1002.  366.  242. ... 1946. 2035. 2188.]\n"
     ]
    }
   ],
   "source": [
    "for c in credit.columns:\n",
    "    print(credit[c].unique())"
   ]
  },
  {
   "cell_type": "markdown",
   "id": "b1520600",
   "metadata": {},
   "source": [
    "#### 4.3. Drop duplicates and check null values"
   ]
  },
  {
   "cell_type": "code",
   "execution_count": 10,
   "id": "0bfc2d9e",
   "metadata": {},
   "outputs": [
    {
     "data": {
      "text/plain": [
       "customer_number          0\n",
       "offer_accepted           0\n",
       "reward                   0\n",
       "mailer_type              0\n",
       "income_level             0\n",
       "bank_accounts_open       0\n",
       "overdraft_protection     0\n",
       "credit_rating            0\n",
       "credit_cards_held        0\n",
       "homes_owned              0\n",
       "household_size           0\n",
       "own_your_home            0\n",
       "average_balance         24\n",
       "q1_balance              24\n",
       "q2_balance              24\n",
       "q3_balance              24\n",
       "q4_balance              24\n",
       "dtype: int64"
      ]
     },
     "execution_count": 10,
     "metadata": {},
     "output_type": "execute_result"
    }
   ],
   "source": [
    "credit.isnull().sum()"
   ]
  },
  {
   "cell_type": "code",
   "execution_count": 11,
   "id": "1d1ab61c",
   "metadata": {},
   "outputs": [
    {
     "data": {
      "text/plain": [
       "0"
      ]
     },
     "execution_count": 11,
     "metadata": {},
     "output_type": "execute_result"
    }
   ],
   "source": [
    "credit.duplicated().sum()"
   ]
  },
  {
   "cell_type": "code",
   "execution_count": 12,
   "id": "5bbedf02",
   "metadata": {},
   "outputs": [],
   "source": [
    "n_col = ['average_balance', 'q1_balance', 'q2_balance', 'q3_balance', 'q4_balance']\n",
    "\n",
    "for c in n_col:\n",
    "    credit[f'{c}'].fillna(int(credit[f'{c}'].median()), inplace=True)\n"
   ]
  },
  {
   "cell_type": "markdown",
   "id": "b1c2d965",
   "metadata": {},
   "source": [
    "#### 4.4. Explore numerical data "
   ]
  },
  {
   "cell_type": "code",
   "execution_count": 16,
   "id": "466b5923",
   "metadata": {},
   "outputs": [
    {
     "data": {
      "text/html": [
       "<div>\n",
       "<style scoped>\n",
       "    .dataframe tbody tr th:only-of-type {\n",
       "        vertical-align: middle;\n",
       "    }\n",
       "\n",
       "    .dataframe tbody tr th {\n",
       "        vertical-align: top;\n",
       "    }\n",
       "\n",
       "    .dataframe thead th {\n",
       "        text-align: right;\n",
       "    }\n",
       "</style>\n",
       "<table border=\"1\" class=\"dataframe\">\n",
       "  <thead>\n",
       "    <tr style=\"text-align: right;\">\n",
       "      <th></th>\n",
       "      <th>customer_number</th>\n",
       "      <th>offer_accepted</th>\n",
       "      <th>reward</th>\n",
       "      <th>mailer_type</th>\n",
       "      <th>income_level</th>\n",
       "      <th>bank_accounts_open</th>\n",
       "      <th>overdraft_protection</th>\n",
       "      <th>credit_rating</th>\n",
       "      <th>credit_cards_held</th>\n",
       "      <th>homes_owned</th>\n",
       "      <th>household_size</th>\n",
       "      <th>own_your_home</th>\n",
       "      <th>average_balance</th>\n",
       "      <th>q1_balance</th>\n",
       "      <th>q2_balance</th>\n",
       "      <th>q3_balance</th>\n",
       "      <th>q4_balance</th>\n",
       "    </tr>\n",
       "  </thead>\n",
       "  <tbody>\n",
       "    <tr>\n",
       "      <th>0</th>\n",
       "      <td>1</td>\n",
       "      <td>No</td>\n",
       "      <td>Air Miles</td>\n",
       "      <td>Letter</td>\n",
       "      <td>High</td>\n",
       "      <td>1</td>\n",
       "      <td>No</td>\n",
       "      <td>High</td>\n",
       "      <td>2</td>\n",
       "      <td>1</td>\n",
       "      <td>4</td>\n",
       "      <td>No</td>\n",
       "      <td>1160.75</td>\n",
       "      <td>1669.0</td>\n",
       "      <td>877.0</td>\n",
       "      <td>1095.0</td>\n",
       "      <td>1002.0</td>\n",
       "    </tr>\n",
       "    <tr>\n",
       "      <th>1</th>\n",
       "      <td>2</td>\n",
       "      <td>No</td>\n",
       "      <td>Air Miles</td>\n",
       "      <td>Letter</td>\n",
       "      <td>Medium</td>\n",
       "      <td>1</td>\n",
       "      <td>No</td>\n",
       "      <td>Medium</td>\n",
       "      <td>2</td>\n",
       "      <td>2</td>\n",
       "      <td>5</td>\n",
       "      <td>Yes</td>\n",
       "      <td>147.25</td>\n",
       "      <td>39.0</td>\n",
       "      <td>106.0</td>\n",
       "      <td>78.0</td>\n",
       "      <td>366.0</td>\n",
       "    </tr>\n",
       "    <tr>\n",
       "      <th>2</th>\n",
       "      <td>3</td>\n",
       "      <td>No</td>\n",
       "      <td>Air Miles</td>\n",
       "      <td>Postcard</td>\n",
       "      <td>High</td>\n",
       "      <td>2</td>\n",
       "      <td>No</td>\n",
       "      <td>Medium</td>\n",
       "      <td>2</td>\n",
       "      <td>1</td>\n",
       "      <td>2</td>\n",
       "      <td>Yes</td>\n",
       "      <td>276.50</td>\n",
       "      <td>367.0</td>\n",
       "      <td>352.0</td>\n",
       "      <td>145.0</td>\n",
       "      <td>242.0</td>\n",
       "    </tr>\n",
       "  </tbody>\n",
       "</table>\n",
       "</div>"
      ],
      "text/plain": [
       "   customer_number offer_accepted     reward mailer_type income_level  \\\n",
       "0                1             No  Air Miles      Letter         High   \n",
       "1                2             No  Air Miles      Letter       Medium   \n",
       "2                3             No  Air Miles    Postcard         High   \n",
       "\n",
       "   bank_accounts_open overdraft_protection credit_rating  credit_cards_held  \\\n",
       "0                   1                   No          High                  2   \n",
       "1                   1                   No        Medium                  2   \n",
       "2                   2                   No        Medium                  2   \n",
       "\n",
       "   homes_owned  household_size own_your_home  average_balance  q1_balance  \\\n",
       "0            1               4            No          1160.75      1669.0   \n",
       "1            2               5           Yes           147.25        39.0   \n",
       "2            1               2           Yes           276.50       367.0   \n",
       "\n",
       "   q2_balance  q3_balance  q4_balance  \n",
       "0       877.0      1095.0      1002.0  \n",
       "1       106.0        78.0       366.0  \n",
       "2       352.0       145.0       242.0  "
      ]
     },
     "execution_count": 16,
     "metadata": {},
     "output_type": "execute_result"
    }
   ],
   "source": [
    "credit.head(3)"
   ]
  },
  {
   "cell_type": "code",
   "execution_count": 25,
   "id": "a99a92df",
   "metadata": {},
   "outputs": [
    {
     "data": {
      "text/plain": [
       "<AxesSubplot:xlabel='credit_cards_held'>"
      ]
     },
     "execution_count": 25,
     "metadata": {},
     "output_type": "execute_result"
    },
    {
     "data": {
      "image/png": "[encoded data removed]",
      "text/plain": [
       "<Figure size 432x288 with 1 Axes>"
      ]
     },
     "metadata": {
      "needs_background": "light"
     },
     "output_type": "display_data"
    }
   ],
   "source": [
    "sns.boxplot(credit.credit_cards_held)"
   ]
  },
  {
   "cell_type": "code",
   "execution_count": 58,
   "id": "0a5e615e",
   "metadata": {},
   "outputs": [
    {
     "data": {
      "text/html": [
       "<div>\n",
       "<style scoped>\n",
       "    .dataframe tbody tr th:only-of-type {\n",
       "        vertical-align: middle;\n",
       "    }\n",
       "\n",
       "    .dataframe tbody tr th {\n",
       "        vertical-align: top;\n",
       "    }\n",
       "\n",
       "    .dataframe thead th {\n",
       "        text-align: right;\n",
       "    }\n",
       "</style>\n",
       "<table border=\"1\" class=\"dataframe\">\n",
       "  <thead>\n",
       "    <tr style=\"text-align: right;\">\n",
       "      <th></th>\n",
       "      <th>one_card</th>\n",
       "      <th>two_card</th>\n",
       "      <th>three_card</th>\n",
       "      <th>four_card</th>\n",
       "    </tr>\n",
       "  </thead>\n",
       "  <tbody>\n",
       "    <tr>\n",
       "      <th>Percentages</th>\n",
       "      <td>34.188889</td>\n",
       "      <td>44.133333</td>\n",
       "      <td>18.816667</td>\n",
       "      <td>2.861111</td>\n",
       "    </tr>\n",
       "  </tbody>\n",
       "</table>\n",
       "</div>"
      ],
      "text/plain": [
       "              one_card   two_card  three_card  four_card\n",
       "Percentages  34.188889  44.133333   18.816667   2.861111"
      ]
     },
     "execution_count": 58,
     "metadata": {},
     "output_type": "execute_result"
    }
   ],
   "source": [
    "card_holders = {'one_card': ((credit.loc[credit.credit_cards_held == 1].shape[0]) * 100) / credit.shape[0],\n",
    "                'two_card': ((credit.loc[credit.credit_cards_held == 2].shape[0]) * 100) / credit.shape[0],\n",
    "                'three_card': ((credit.loc[credit.credit_cards_held == 3].shape[0]) * 100) / credit.shape[0],\n",
    "                'four_card': ((credit.loc[credit.credit_cards_held == 4].shape[0]) * 100) / credit.shape[0]}\n",
    "percentage = ['Percentages']\n",
    "cdf = pd.DataFrame(card_holders, index=percentage)\n",
    "cdf"
   ]
  },
  {
   "cell_type": "code",
   "execution_count": 60,
   "id": "1bc6037d",
   "metadata": {},
   "outputs": [
    {
     "data": {
      "text/html": [
       "<div>\n",
       "<style scoped>\n",
       "    .dataframe tbody tr th:only-of-type {\n",
       "        vertical-align: middle;\n",
       "    }\n",
       "\n",
       "    .dataframe tbody tr th {\n",
       "        vertical-align: top;\n",
       "    }\n",
       "\n",
       "    .dataframe thead th {\n",
       "        text-align: right;\n",
       "    }\n",
       "</style>\n",
       "<table border=\"1\" class=\"dataframe\">\n",
       "  <thead>\n",
       "    <tr style=\"text-align: right;\">\n",
       "      <th></th>\n",
       "      <th>one_bacc</th>\n",
       "      <th>two_bacc</th>\n",
       "      <th>three_bacc</th>\n",
       "    </tr>\n",
       "  </thead>\n",
       "  <tbody>\n",
       "    <tr>\n",
       "      <th>Percentages</th>\n",
       "      <td>76.066667</td>\n",
       "      <td>22.288889</td>\n",
       "      <td>1.644444</td>\n",
       "    </tr>\n",
       "  </tbody>\n",
       "</table>\n",
       "</div>"
      ],
      "text/plain": [
       "              one_bacc   two_bacc  three_bacc\n",
       "Percentages  76.066667  22.288889    1.644444"
      ]
     },
     "execution_count": 60,
     "metadata": {},
     "output_type": "execute_result"
    }
   ],
   "source": [
    "bank_accs = {'one_bacc': ((credit.loc[credit.bank_accounts_open == 1].shape[0]) * 100) / credit.shape[0],\n",
    "            'two_bacc': ((credit.loc[credit.bank_accounts_open == 2].shape[0]) * 100) / credit.shape[0],\n",
    "            'three_bacc': ((credit.loc[credit.bank_accounts_open == 3].shape[0]) * 100) / credit.shape[0]}\n",
    "percentage = ['Percentages']\n",
    "bdf = pd.DataFrame(bank_accs, index=percentage)\n",
    "bdf"
   ]
  },
  {
   "cell_type": "code",
   "execution_count": 64,
   "id": "42aa8b42",
   "metadata": {},
   "outputs": [
    {
     "data": {
      "text/html": [
       "<div>\n",
       "<style scoped>\n",
       "    .dataframe tbody tr th:only-of-type {\n",
       "        vertical-align: middle;\n",
       "    }\n",
       "\n",
       "    .dataframe tbody tr th {\n",
       "        vertical-align: top;\n",
       "    }\n",
       "\n",
       "    .dataframe thead th {\n",
       "        text-align: right;\n",
       "    }\n",
       "</style>\n",
       "<table border=\"1\" class=\"dataframe\">\n",
       "  <thead>\n",
       "    <tr style=\"text-align: right;\">\n",
       "      <th></th>\n",
       "      <th>one_home</th>\n",
       "      <th>two_home</th>\n",
       "      <th>three_home</th>\n",
       "    </tr>\n",
       "  </thead>\n",
       "  <tbody>\n",
       "    <tr>\n",
       "      <th>Percentages</th>\n",
       "      <td>80.683333</td>\n",
       "      <td>18.288889</td>\n",
       "      <td>1.027778</td>\n",
       "    </tr>\n",
       "  </tbody>\n",
       "</table>\n",
       "</div>"
      ],
      "text/plain": [
       "              one_home   two_home  three_home\n",
       "Percentages  80.683333  18.288889    1.027778"
      ]
     },
     "execution_count": 64,
     "metadata": {},
     "output_type": "execute_result"
    }
   ],
   "source": [
    "homes = {'one_home': ((credit.loc[credit.homes_owned == 1].shape[0]) * 100) / credit.shape[0],\n",
    "         'two_home': ((credit.loc[credit.homes_owned == 2].shape[0]) * 100) / credit.shape[0],\n",
    "         'three_home': ((credit.loc[credit.homes_owned == 3].shape[0]) * 100) / credit.shape[0]}\n",
    "percentage = ['Percentages']\n",
    "hdf = pd.DataFrame(homes, index=percentage)\n",
    "hdf"
   ]
  },
  {
   "cell_type": "markdown",
   "id": "6ad0c35b",
   "metadata": {},
   "source": [
    "**Findings in numerical columns**\n",
    "- Only 3% of the customer hold more than three credit cards. Therefore, I would recommend to offer a credit card only to customers who only have one or two credit cards yet. \n",
    "- 19% of the customers own more than one home (if they are a homeowner at all). \n",
    "- Only 24% have more than one open bank account.\n",
    "- Most of the customers live in a household with other people. Only 3% live alone. "
   ]
  },
  {
   "cell_type": "markdown",
   "id": "980e2498",
   "metadata": {},
   "source": [
    "#### 4.5. Explore categorical columns"
   ]
  },
  {
   "cell_type": "markdown",
   "id": "1befdd3c",
   "metadata": {},
   "source": [
    "**Findings in categorical columns**\n",
    "- Only 5,68% of the customers accepted an offer. \n",
    "- 64,75% of the customer own their home.\n",
    "- About 85,12% have an overdraft protection on their checking account(s)."
   ]
  },
  {
   "cell_type": "markdown",
   "id": "2e226228",
   "metadata": {},
   "source": [
    "#### 4.6. Relationshop between accepted offers and the other columns "
   ]
  },
  {
   "cell_type": "markdown",
   "id": "74684f34",
   "metadata": {},
   "source": [
    "**Findings in the relations between the columns**\n",
    "- The distribution of customers who accepted the offer appears to be evenly divided between levels of income. Same for the option to have an overdraft protection, owning a home, the amount of open bank accounts, credit cards held and amount of home. \n",
    "- My only guess, based on the first overview, is that people who live in a household of the size 3 or 4 are more likely to accept the offer. "
   ]
  },
  {
   "cell_type": "markdown",
   "id": "de488ebb",
   "metadata": {},
   "source": [
    "#### 4.7. Set index"
   ]
  },
  {
   "cell_type": "markdown",
   "id": "f02eb0c8",
   "metadata": {},
   "source": [
    "Because the customer_number is a unique value, I set it to index."
   ]
  },
  {
   "cell_type": "markdown",
   "id": "35ee2f6c",
   "metadata": {},
   "source": [
    "#### 4.8. Check the correlation"
   ]
  },
  {
   "cell_type": "markdown",
   "id": "03c3d366",
   "metadata": {},
   "source": [
    "Check the correlation for numerical data"
   ]
  },
  {
   "cell_type": "markdown",
   "id": "532b5623",
   "metadata": {},
   "source": [
    "There is a high correlation between the over all average and the average of the quarterly average (q1, q2, q3, q4.) Hence, I decided to drop the average balance.  "
   ]
  },
  {
   "cell_type": "markdown",
   "id": "498b1639",
   "metadata": {},
   "source": [
    "Check the correlation for categorical data"
   ]
  },
  {
   "cell_type": "markdown",
   "id": "505c96e7",
   "metadata": {},
   "source": [
    "**Conclusion**"
   ]
  },
  {
   "cell_type": "markdown",
   "id": "acee4317",
   "metadata": {},
   "source": [
    "There is a relationship between the following columns (reject the null hypothesis): \n",
    "- offer_accepted  and column credit_rating \n",
    "- offer_accepted  and column income_level \n",
    "- offer_accepted  and column mailer_type \n",
    "- offer_accepted  and column reward\n",
    "\n",
    "In the other combination is no relationship between the columns (Failed to reject the null hypothesis). \n",
    "\n",
    "- To fit the model there is the possibility to drop the columns ('overdraft_protection', 'own_your_home')  without a relationship to the target variable \"offer accepted\" \n",
    "- For the next marketing study I would recommend to change the questions which have no relationship to the target variable \"offer accepted\". "
   ]
  },
  {
   "cell_type": "markdown",
   "id": "cab4b501",
   "metadata": {},
   "source": [
    "#### 4.9. Check value counts"
   ]
  },
  {
   "cell_type": "markdown",
   "id": "94b4df3c",
   "metadata": {},
   "source": [
    "There are only two entries for customers with a household size bigger than 6, so I decided to assign the value 6 to these two entries as well, in order to make the data more balanced. "
   ]
  },
  {
   "cell_type": "markdown",
   "id": "6512cf6b",
   "metadata": {},
   "source": [
    "### 5.  Data processing, feature engineering"
   ]
  },
  {
   "cell_type": "markdown",
   "id": "f8cf1a18",
   "metadata": {},
   "source": [
    "#### 5.1. Apply boxcox transformation"
   ]
  },
  {
   "cell_type": "markdown",
   "id": "ea11f393",
   "metadata": {},
   "source": [
    "#### 5.2. Remove outliers "
   ]
  },
  {
   "cell_type": "markdown",
   "id": "88038c4b",
   "metadata": {},
   "source": [
    "I removed only the outliers of the columns 'q2_balance', 'q3_balance', 'q4_balance' because these are the columns with a higher number of outliers."
   ]
  },
  {
   "cell_type": "markdown",
   "id": "5a89fff9",
   "metadata": {},
   "source": [
    "### 6. Train/test split, standardize numerical + encode categorical"
   ]
  },
  {
   "cell_type": "markdown",
   "id": "3271a8f0",
   "metadata": {},
   "source": [
    "standardize numerical"
   ]
  },
  {
   "cell_type": "markdown",
   "id": "3d092c92",
   "metadata": {},
   "source": [
    "encode categorical"
   ]
  },
  {
   "cell_type": "markdown",
   "id": "eef28e51",
   "metadata": {},
   "source": [
    "concatenate standardize numerical and encode categorical"
   ]
  },
  {
   "cell_type": "markdown",
   "id": "1cdca351",
   "metadata": {},
   "source": [
    "### 7. Model evaluation"
   ]
  },
  {
   "cell_type": "markdown",
   "id": "d701992b",
   "metadata": {},
   "source": [
    "#### 7.1. KNeighbors Classifier"
   ]
  },
  {
   "cell_type": "markdown",
   "id": "f2590b19",
   "metadata": {},
   "source": [
    "Choose the best k value"
   ]
  },
  {
   "cell_type": "markdown",
   "id": "e6dba84a",
   "metadata": {},
   "source": [
    "**Conclusion KNeighbors Classifier k = 5**\\\n",
    "The precision of No is very high for this model (0.95%), but the precision of Yes is pretty low with 0.08%. The result is based on the high number of No values and low number of Yes values. Next step is to oversample the minority with SMOTE. "
   ]
  },
  {
   "cell_type": "markdown",
   "id": "47367692",
   "metadata": {},
   "source": [
    "#### 7.2. KNeighbors Classifier with SMOTE"
   ]
  },
  {
   "cell_type": "markdown",
   "id": "f74c319f",
   "metadata": {},
   "source": [
    "Choose the best k value"
   ]
  },
  {
   "cell_type": "markdown",
   "id": "41377db5",
   "metadata": {},
   "source": [
    "**KNeighbors Classifier SMOTE k = 5** "
   ]
  },
  {
   "cell_type": "markdown",
   "id": "eace1597",
   "metadata": {},
   "source": [
    "**Conclusion KNeighbors Classifier SMOTE**\n",
    "- Even when the accuracy score is less high with the SMOTE technique (Before SMOTE: 0.93; After SMOTE: 0,85; 0,74), this model is able to predict customers who accept the offer. Without SMOTE there was a recall of 0 for Yes. "
   ]
  },
  {
   "cell_type": "markdown",
   "id": "20257fed",
   "metadata": {},
   "source": [
    "#### 7.3. Logistic Regression"
   ]
  },
  {
   "cell_type": "markdown",
   "id": "2eecc22c",
   "metadata": {},
   "source": [
    "**Conclusion Logistic Regression**\\\n",
    "Good prediction when it comes to the True No, but the bad prediction for True Yes makes this approach useless for the given dataset. (Recall No, 0.77, Yes 0.34) "
   ]
  },
  {
   "cell_type": "markdown",
   "id": "d18c78f6",
   "metadata": {},
   "source": [
    "#### 7.4. Logistic Regression - Weights"
   ]
  },
  {
   "cell_type": "markdown",
   "id": "154b329d",
   "metadata": {},
   "source": [
    "Chance the class weight of Yes / No to improve the prediction when it comes to True Yes. "
   ]
  },
  {
   "cell_type": "markdown",
   "id": "6e26fac8",
   "metadata": {},
   "source": [
    "Train/test split"
   ]
  },
  {
   "cell_type": "markdown",
   "id": "7757428e",
   "metadata": {},
   "source": [
    "Standardize numerical and encode categorical"
   ]
  },
  {
   "cell_type": "markdown",
   "id": "4d754581",
   "metadata": {},
   "source": [
    "Fit the model with weighted sample size"
   ]
  },
  {
   "cell_type": "markdown",
   "id": "06b10eaa",
   "metadata": {},
   "source": [
    "Even if the accuracy score of 0.66 is not that high, the prediction is better. With the weight balanced data the True Yes works much better, but there are more False No. About 70% of the \"No\" is predicted True and 75% of the \"Yes\" is predicted True. "
   ]
  },
  {
   "cell_type": "markdown",
   "id": "2f92571c",
   "metadata": {},
   "source": [
    "### 8. Overview - model results"
   ]
  },
  {
   "cell_type": "markdown",
   "id": "7590045f",
   "metadata": {},
   "source": [
    "In order to judge which model works best, the following indicators provide the most insight\n",
    "- accuracy score\n",
    "- f1 score weighted avg \n",
    "- precision No / Yes\n",
    "- recall No / Yes\n",
    "\n",
    "Here is an overview of the indicators per model:"
   ]
  },
  {
   "cell_type": "markdown",
   "id": "b1876b57",
   "metadata": {},
   "source": [
    "These findings lead to the following most notable conclusions per model."
   ]
  },
  {
   "cell_type": "markdown",
   "id": "69bc9526",
   "metadata": {},
   "source": [
    "**Conclusion KNeighbors Classifier k = 5**\\\n",
    "The precision of No is very high for this model 0.95, but the precision of Yes is pretty low with 0.08. The result is based on the high number of No values and low number of Yes values."
   ]
  },
  {
   "cell_type": "markdown",
   "id": "89ae3811",
   "metadata": {},
   "source": [
    "**Conclusion KNeighbors Classifier - SMOTE**\\\n",
    "Even when the accuracy score is less high with the SMOTE technique (Before SMOTE: 0.93; After SMOTE: 0,85; 0,74), this model is able to predict customers who accept the offer. Without SMOTE there was a recall of 0 for Yes. "
   ]
  },
  {
   "cell_type": "markdown",
   "id": "e88f49ce",
   "metadata": {},
   "source": [
    "**Conclusion Logistic Regression**\\\n",
    "Good prediction when it comes to the True No, but the bad prediction for True Yes makes this approach useless for the given dataset. (Recall No, 0.77, Yes 0.34) "
   ]
  },
  {
   "cell_type": "markdown",
   "id": "55deecf0",
   "metadata": {},
   "source": [
    "**Conclusion Logistic Regression - Weights**\\\n",
    "Even if the accuracy score of 0.66 is not as high, the prediction is better. With the weight balanced data the True Yes works much better. The recall is balanced with the same recall for Yes and No. This model is capable of recognizing any customer who accept the offer."
   ]
  },
  {
   "cell_type": "markdown",
   "id": "7737af92",
   "metadata": {},
   "source": [
    "### 9. Wrap up and recommended next steps"
   ]
  },
  {
   "cell_type": "markdown",
   "id": "b7f497f0",
   "metadata": {},
   "source": [
    "- Logistic Regression with changed class weights fits best for this dataset. Highest Yes recall: 0.69.  \n",
    "- Next step to evaluate this model: Cut the variables which do not improve the prediction and improve the weight/balance\n",
    "- For the next marketing study I would recommend to change the questions/parameters which have no relationship to the target variable (Like shown in point 5.2.) and to build bins (For example house hold size 5-9) "
   ]
  }
 ],
 "metadata": {
  "kernelspec": {
   "display_name": "ironcon",
   "language": "python",
   "name": "ironcon"
  },
  "language_info": {
   "codemirror_mode": {
    "name": "ipython",
    "version": 3
   },
   "file_extension": ".py",
   "mimetype": "text/x-python",
   "name": "python",
   "nbconvert_exporter": "python",
   "pygments_lexer": "ipython3",
   "version": "3.8.11"
  }
 },
 "nbformat": 4,
 "nbformat_minor": 5
}
